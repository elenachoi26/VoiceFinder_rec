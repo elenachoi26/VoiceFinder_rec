{
 "cells": [
  {
   "cell_type": "code",
   "execution_count": 2,
   "id": "adcf1d26",
   "metadata": {
    "ExecuteTime": {
     "end_time": "2024-06-12T09:08:25.369235Z",
     "start_time": "2024-06-12T09:08:25.365630Z"
    }
   },
   "outputs": [],
   "source": [
    "#pip install flask"
   ]
  },
  {
   "cell_type": "code",
   "execution_count": 4,
   "id": "d8534b04",
   "metadata": {
    "ExecuteTime": {
     "end_time": "2024-06-12T09:35:23.503301Z",
     "start_time": "2024-06-12T09:35:23.483161Z"
    }
   },
   "outputs": [
    {
     "name": "stdout",
     "output_type": "stream",
     "text": [
      "{'user_id': 1, 'cannot_eat': '야채', 'fav_food': '닭발'}\n",
      "user id is 1\n",
      "fav food is : ['닭발']\n",
      "cannot_eat food is : ['야채']\n",
      "cb result: market_id\n",
      "63581     0.000000\n",
      "55402     0.000000\n",
      "65666     0.000000\n",
      "117236    0.000000\n",
      "114791    0.000000\n",
      "141727    0.000000\n",
      "183057    0.000000\n",
      "145428    0.000000\n",
      "138143    0.000000\n",
      "85289     0.000000\n",
      "781933    0.000000\n",
      "39504     0.000000\n",
      "73916     0.000000\n",
      "13464     0.000000\n",
      "98873     0.000000\n",
      "57431     0.000000\n",
      "399215    0.000000\n",
      "45790     0.000000\n",
      "106729    0.000000\n",
      "173974    0.745378\n",
      "dtype: float64\n",
      "cb result: market_id\n",
      "63581     0.000000\n",
      "55402     0.000000\n",
      "65666     0.000000\n",
      "117236    0.000000\n",
      "114791    0.000000\n",
      "141727    0.000000\n",
      "183057    0.000000\n",
      "145428    0.000000\n",
      "138143    0.000000\n",
      "85289     0.000000\n",
      "781933    0.000000\n",
      "39504     0.000000\n",
      "73916     0.000000\n",
      "13464     0.000000\n",
      "98873     0.000000\n",
      "57431     0.000000\n",
      "399215    0.000000\n",
      "45790     0.000000\n",
      "106729    0.000000\n",
      "173974    0.745378\n",
      "dtype: float64\n",
      "total result: market_id\n",
      "45790     2.250\n",
      "138143    2.125\n",
      "141727    2.125\n",
      "dtype: float64\n",
      "{'market_ids': 6     141727\n",
      "9     138143\n",
      "24     45790\n",
      "Name: market_id, dtype: int64}\n"
     ]
    }
   ],
   "source": [
    "from flask import Flask, request, jsonify\n",
    "import pandas as pd\n",
    "import numpy as np\n",
    "\n",
    "# Assuming the following scripts are in the same directory\n",
    "import collaborate_filtering\n",
    "import hybrid_recsys\n",
    "import content_based\n",
    "\n",
    "#app = Flask(__name__)\n",
    "\n",
    "#@app.route('/recommend', methods=['POST'])\n",
    "def recommend():\n",
    "    #data = request.json\n",
    "    #user_id = data.get('user_id')\n",
    "    #fav_food = data.get('fav_food')\n",
    "    #cannot_eat = data.get('cannot_eat')\n",
    "    \n",
    "    # 사용자 입력 받기\n",
    "    user_id = 1\n",
    "    cannot_eat = \"야채\"\n",
    "    fav_food = \"닭발\"\n",
    "    \n",
    "    user_profile = {\n",
    "        \"user_id\": int(user_id),\n",
    "        \"cannot_eat\": cannot_eat,\n",
    "        \"fav_food\": fav_food\n",
    "    }\n",
    "    \n",
    "    print(user_profile)\n",
    "    \n",
    "    #if not user_id or not fav_food or not cannot_eat:\n",
    "    #    return jsonify({'error': 'Missing required parameters'}), 400\n",
    "    \n",
    "    try:\n",
    "        # Here you should call your hybrid recommendation model\n",
    "        recommended_market_ids = hybrid_recsys.get_recommendations(user_profile)\n",
    "        print({'market_ids': recommended_market_ids})\n",
    "        \n",
    "        #return jsonify({'market_ids': recommended_market_ids})\n",
    "    except Exception as e:\n",
    "        print({'error': str(e)})\n",
    "\n",
    "if __name__ == '__main__':\n",
    "    #app.run(debug=True)\n",
    "    recommend()"
   ]
  },
  {
   "cell_type": "code",
   "execution_count": null,
   "id": "a7392b87",
   "metadata": {},
   "outputs": [],
   "source": []
  }
 ],
 "metadata": {
  "kernelspec": {
   "display_name": "Python 3 (ipykernel)",
   "language": "python",
   "name": "python3"
  },
  "language_info": {
   "codemirror_mode": {
    "name": "ipython",
    "version": 3
   },
   "file_extension": ".py",
   "mimetype": "text/x-python",
   "name": "python",
   "nbconvert_exporter": "python",
   "pygments_lexer": "ipython3",
   "version": "3.11.9"
  },
  "toc": {
   "base_numbering": 1,
   "nav_menu": {},
   "number_sections": true,
   "sideBar": true,
   "skip_h1_title": false,
   "title_cell": "Table of Contents",
   "title_sidebar": "Contents",
   "toc_cell": false,
   "toc_position": {},
   "toc_section_display": true,
   "toc_window_display": false
  }
 },
 "nbformat": 4,
 "nbformat_minor": 5
}
